{
  "nbformat": 4,
  "nbformat_minor": 0,
  "metadata": {
    "kernelspec": {
      "display_name": "Python 3",
      "language": "python",
      "name": "python3"
    },
    "language_info": {
      "codemirror_mode": {
        "name": "ipython",
        "version": 3
      },
      "file_extension": ".py",
      "mimetype": "text/x-python",
      "name": "python",
      "nbconvert_exporter": "python",
      "pygments_lexer": "ipython3",
      "version": "3.8.5"
    },
    "pycharm": {
      "stem_cell": {
        "cell_type": "raw",
        "metadata": {
          "collapsed": false
        },
        "source": []
      }
    },
    "colab": {
      "name": "421.ipynb",
      "provenance": [],
      "toc_visible": true
    }
  },
  "cells": [
    {
      "cell_type": "markdown",
      "metadata": {
        "id": "znjXAS4H0poS"
      },
      "source": [
        "# Module 4: Deep Learning\n",
        "\n",
        "## Sprint 2: Natural Language Processing\n",
        "\n",
        "## Subproject 1: Transformers Part 1"
      ]
    },
    {
      "cell_type": "markdown",
      "metadata": {
        "id": "60-hbXxC0poe"
      },
      "source": [
        "Natural language processing is as exciting as computer vision in the world of data scientists. There is a variety of consumer-facing applications of NLP systems, which can either help users (e.g. Apple Siri, Google Home) or companies (e.g. chatbots, [Google Duplex](https://www.youtube.com/watch?v=JvbHu_bVa_g) <-- check this video out, it's really cool 😎). There is a huge variety of applications for NLP systems, from sentiment classification, to text generation, to question answering. We will practice some of these concepts ourselves in the upcoming lessons."
      ]
    },
    {
      "cell_type": "markdown",
      "metadata": {
        "id": "aOIgN3xv0pof"
      },
      "source": [
        "You already had some introduction to NLP in the previous module, so this module assumes you have a good understanding of the material. We will focus mainly on the deep learning aspect of NLP. As in computer vision, deep learning is leaps ahead in NLP compared to classical ML approaches. Depending on the type of problem at hand and domain, you will most likely turn to deep learning to solve it."
      ]
    },
    {
      "cell_type": "markdown",
      "metadata": {
        "id": "T3mmhxhJ0pof"
      },
      "source": [
        "## Learning outcomes:\n",
        "\n",
        "- Transformers\n",
        "- Attention mechanism\n",
        "- HuggingFace library\n",
        "- Bert/DistilBert transformer for text classification"
      ]
    },
    {
      "cell_type": "markdown",
      "metadata": {
        "id": "Ii_cDu-00pof"
      },
      "source": [
        "---"
      ]
    },
    {
      "cell_type": "markdown",
      "metadata": {
        "id": "tMw9wZuS0pog"
      },
      "source": [
        "## Transformers"
      ]
    },
    {
      "cell_type": "markdown",
      "metadata": {
        "id": "Cwep05YQ0pog"
      },
      "source": [
        "<div style=\"text-align:center\">\n",
        "<div><img style=\"width:400px\" src=\"https://i.pinimg.com/originals/a8/5d/f2/a85df270c1108423336caa1b152bee41.png\"></img><div>\n",
        "<div style=\"margin-bottom:20px; color:rgb(117, 117, 117);font-size:12px;\">Source: https://www.pinterest.com/pin/318559373631411928/</div>\n",
        "</div>"
      ]
    },
    {
      "cell_type": "markdown",
      "metadata": {
        "id": "mn74L3je0pog"
      },
      "source": [
        "Today, we will start the NLP journey, by looking into the transformers - major breakthrough in NLP, which has significantly raised the SOTA bar for NLP tasks and has been also successfully applied to computer vision. The major difference from previous NLP solutions is that transformers managed to parallelize tasks that before were strictly sequential using their so-called \"attention\" mechanism, resulting in quicker computations, larger architectures, and training on vast collections of data. "
      ]
    },
    {
      "cell_type": "markdown",
      "metadata": {
        "id": "nDdUDUGI0pog"
      },
      "source": [
        "Start by reading the original paper from Google about the transformers  \n",
        "- https://papers.nips.cc/paper/7181-attention-is-all-you-need.pdf  \n",
        "\n",
        "Further material\n",
        "- https://ai.googleblog.com/2017/08/transformer-novel-neural-network.html  \n",
        "- http://jalammar.github.io/illustrated-transformer/  \n",
        "- https://www.youtube.com/watch?v=TQQlZhbC5ps  \n",
        "\n",
        "Additional resources:  \n",
        "- http://jalammar.github.io/a-visual-guide-to-using-bert-for-the-first-time/  \n",
        "- https://youtu.be/AFkGPmU16QA  \n",
        "- https://www.tensorflow.org/tutorials/text/transformer  \n",
        "\n",
        "I hope you got the rough idea about what transformers are and how they work. If everything makes sense - great! But don't worry if you still don't understand everything, as we will revisit the topics as we go along. For now, let's dive straight into the application of transformers. Once we get more intuition and understanding of how to apply it, we will go back to more theory about transformers in the tomorrow's material\n",
        "\n",
        "For the remainder of the topic, we will use an amazing library - HuggingFace Transformers https://huggingface.co/transformers/quickstart.html  \n",
        "Read through the intro to the HFT and make sure it is installed in your notebook."
      ]
    },
    {
      "cell_type": "markdown",
      "metadata": {
        "id": "rsWZvF-V0poh"
      },
      "source": [
        "## Exercise"
      ]
    },
    {
      "cell_type": "markdown",
      "metadata": {
        "id": "GuzBt9A70poh"
      },
      "source": [
        "<div style=\"text-align:center;\"><img style=\"width:300px\" src=\"https://i.guim.co.uk/img/media/2b9425ced15758b2bb32f4d15961a7a7c594874e/221_0_1535_922/master/1535.jpg?width=445&quality=85&auto=format&fit=max&s=71f14c2db1f7f97f81c8614c848e1e12\"></img></div>"
      ]
    },
    {
      "cell_type": "markdown",
      "metadata": {
        "id": "bTK0MbZE0poh"
      },
      "source": [
        "In this exercise, we will use the transformers to **classify** text. Using the [South Park lines dataset](https://www.kaggle.com/tovarischsukhov/southparklines) we will try to guess which character said which line. Even for a South Park aficionado, this sounds like a daunting task. Let's see if transformers are up for a challenge. \n",
        "\n",
        "Don't use the full dataset for now - choose your favorite 4 characters."
      ]
    },
    {
      "cell_type": "markdown",
      "metadata": {
        "id": "IKVmXGaJ0poi"
      },
      "source": [
        "### EDA"
      ]
    },
    {
      "cell_type": "markdown",
      "metadata": {
        "id": "-BkIwmR30poi"
      },
      "source": [
        "Similarly to computer vision, textual information is not trivial to investigate. You should always use your imagination to try to get the most relevant info from data, depending on the problem at hand and what could be relevant. Refer to previous module lessons on EDA and feature engineering.\n",
        "\n",
        "We will start with some basics"
      ]
    },
    {
      "cell_type": "markdown",
      "metadata": {
        "id": "5i_Fi8x_0poi"
      },
      "source": [
        "Tasks:\n",
        "- Investigate anomalies in data\n",
        "- What are sample counts for each character?\n",
        "- What are word counts for each character?\n",
        "  - Make a box plot of word counts per character\n",
        "  - Display word count statistics per charracter (using pandas `.describe()`)\n",
        "  - When classifying text we will need to have a fixed word count per sample. Decide from the statistics, what is a sensible number of words per sample\n",
        "- Display some lines of each character"
      ]
    },
    {
      "cell_type": "code",
      "metadata": {
        "id": "RywnwctZ1odI"
      },
      "source": [
        "import pandas as pd\n"
      ],
      "execution_count": 1,
      "outputs": []
    },
    {
      "cell_type": "markdown",
      "metadata": {
        "id": "1ApRfriF2s1V"
      },
      "source": [
        "## basic stats"
      ]
    },
    {
      "cell_type": "code",
      "metadata": {
        "id": "CVCbYUNi1qei"
      },
      "source": [
        "df = pd.read_csv(\"/content/All-seasons.csv\")"
      ],
      "execution_count": 2,
      "outputs": []
    },
    {
      "cell_type": "code",
      "metadata": {
        "id": "7vLyrGNs2Bq5",
        "outputId": "d1bb5969-dfeb-4083-9054-a5c1d21ac2ce",
        "colab": {
          "base_uri": "https://localhost:8080/",
          "height": 195
        }
      },
      "source": [
        "df.head()"
      ],
      "execution_count": 6,
      "outputs": [
        {
          "output_type": "execute_result",
          "data": {
            "text/html": [
              "<div>\n",
              "<style scoped>\n",
              "    .dataframe tbody tr th:only-of-type {\n",
              "        vertical-align: middle;\n",
              "    }\n",
              "\n",
              "    .dataframe tbody tr th {\n",
              "        vertical-align: top;\n",
              "    }\n",
              "\n",
              "    .dataframe thead th {\n",
              "        text-align: right;\n",
              "    }\n",
              "</style>\n",
              "<table border=\"1\" class=\"dataframe\">\n",
              "  <thead>\n",
              "    <tr style=\"text-align: right;\">\n",
              "      <th></th>\n",
              "      <th>Season</th>\n",
              "      <th>Episode</th>\n",
              "      <th>Character</th>\n",
              "      <th>Line</th>\n",
              "    </tr>\n",
              "  </thead>\n",
              "  <tbody>\n",
              "    <tr>\n",
              "      <th>0</th>\n",
              "      <td>10</td>\n",
              "      <td>1</td>\n",
              "      <td>Stan</td>\n",
              "      <td>You guys, you guys! Chef is going away. \\n</td>\n",
              "    </tr>\n",
              "    <tr>\n",
              "      <th>1</th>\n",
              "      <td>10</td>\n",
              "      <td>1</td>\n",
              "      <td>Kyle</td>\n",
              "      <td>Going away? For how long?\\n</td>\n",
              "    </tr>\n",
              "    <tr>\n",
              "      <th>2</th>\n",
              "      <td>10</td>\n",
              "      <td>1</td>\n",
              "      <td>Stan</td>\n",
              "      <td>Forever.\\n</td>\n",
              "    </tr>\n",
              "    <tr>\n",
              "      <th>3</th>\n",
              "      <td>10</td>\n",
              "      <td>1</td>\n",
              "      <td>Chef</td>\n",
              "      <td>I'm sorry boys.\\n</td>\n",
              "    </tr>\n",
              "    <tr>\n",
              "      <th>4</th>\n",
              "      <td>10</td>\n",
              "      <td>1</td>\n",
              "      <td>Stan</td>\n",
              "      <td>Chef said he's been bored, so he joining a gro...</td>\n",
              "    </tr>\n",
              "  </tbody>\n",
              "</table>\n",
              "</div>"
            ],
            "text/plain": [
              "  Season Episode Character                                               Line\n",
              "0     10       1      Stan         You guys, you guys! Chef is going away. \\n\n",
              "1     10       1      Kyle                        Going away? For how long?\\n\n",
              "2     10       1      Stan                                         Forever.\\n\n",
              "3     10       1      Chef                                  I'm sorry boys.\\n\n",
              "4     10       1      Stan  Chef said he's been bored, so he joining a gro..."
            ]
          },
          "metadata": {
            "tags": []
          },
          "execution_count": 6
        }
      ]
    },
    {
      "cell_type": "code",
      "metadata": {
        "id": "P0N5zDYY10Pr",
        "outputId": "860a4f64-70eb-4f74-f1f2-6e9a38dd2f23",
        "colab": {
          "base_uri": "https://localhost:8080/"
        }
      },
      "source": [
        "df.info() # no missing data; good"
      ],
      "execution_count": 5,
      "outputs": [
        {
          "output_type": "stream",
          "text": [
            "<class 'pandas.core.frame.DataFrame'>\n",
            "RangeIndex: 70896 entries, 0 to 70895\n",
            "Data columns (total 4 columns):\n",
            " #   Column     Non-Null Count  Dtype \n",
            "---  ------     --------------  ----- \n",
            " 0   Season     70896 non-null  object\n",
            " 1   Episode    70896 non-null  object\n",
            " 2   Character  70896 non-null  object\n",
            " 3   Line       70896 non-null  object\n",
            "dtypes: object(4)\n",
            "memory usage: 2.2+ MB\n"
          ],
          "name": "stdout"
        }
      ]
    },
    {
      "cell_type": "code",
      "metadata": {
        "id": "jUA3LNEz18np",
        "outputId": "8896f661-5c38-4dfd-df8e-0f3b1872bd34",
        "colab": {
          "base_uri": "https://localhost:8080/",
          "height": 166
        }
      },
      "source": [
        "df.describe()"
      ],
      "execution_count": 7,
      "outputs": [
        {
          "output_type": "execute_result",
          "data": {
            "text/html": [
              "<div>\n",
              "<style scoped>\n",
              "    .dataframe tbody tr th:only-of-type {\n",
              "        vertical-align: middle;\n",
              "    }\n",
              "\n",
              "    .dataframe tbody tr th {\n",
              "        vertical-align: top;\n",
              "    }\n",
              "\n",
              "    .dataframe thead th {\n",
              "        text-align: right;\n",
              "    }\n",
              "</style>\n",
              "<table border=\"1\" class=\"dataframe\">\n",
              "  <thead>\n",
              "    <tr style=\"text-align: right;\">\n",
              "      <th></th>\n",
              "      <th>Season</th>\n",
              "      <th>Episode</th>\n",
              "      <th>Character</th>\n",
              "      <th>Line</th>\n",
              "    </tr>\n",
              "  </thead>\n",
              "  <tbody>\n",
              "    <tr>\n",
              "      <th>count</th>\n",
              "      <td>70896</td>\n",
              "      <td>70896</td>\n",
              "      <td>70896</td>\n",
              "      <td>70896</td>\n",
              "    </tr>\n",
              "    <tr>\n",
              "      <th>unique</th>\n",
              "      <td>19</td>\n",
              "      <td>19</td>\n",
              "      <td>3950</td>\n",
              "      <td>64301</td>\n",
              "    </tr>\n",
              "    <tr>\n",
              "      <th>top</th>\n",
              "      <td>2</td>\n",
              "      <td>10</td>\n",
              "      <td>Cartman</td>\n",
              "      <td>What?\\n</td>\n",
              "    </tr>\n",
              "    <tr>\n",
              "      <th>freq</th>\n",
              "      <td>6416</td>\n",
              "      <td>5271</td>\n",
              "      <td>9774</td>\n",
              "      <td>361</td>\n",
              "    </tr>\n",
              "  </tbody>\n",
              "</table>\n",
              "</div>"
            ],
            "text/plain": [
              "       Season Episode Character     Line\n",
              "count   70896   70896     70896    70896\n",
              "unique     19      19      3950    64301\n",
              "top         2      10   Cartman  What?\\n\n",
              "freq     6416    5271      9774      361"
            ]
          },
          "metadata": {
            "tags": []
          },
          "execution_count": 7
        }
      ]
    },
    {
      "cell_type": "markdown",
      "metadata": {
        "id": "Qy9jhhVx2v7H"
      },
      "source": [
        "## more depth"
      ]
    },
    {
      "cell_type": "code",
      "metadata": {
        "id": "kcdWPDj_2Ruu",
        "outputId": "1d953e9a-e94b-4208-94f9-29cf69e1f559",
        "colab": {
          "base_uri": "https://localhost:8080/",
          "height": 364
        }
      },
      "source": [
        "character_count = df.groupby(\"Character\").count().sort_values(\"Line\", ascending=False)[:10][\"Line\"]\n",
        "character_count.plot(kind=\"bar\", title=\"Count of lines\")"
      ],
      "execution_count": 20,
      "outputs": [
        {
          "output_type": "execute_result",
          "data": {
            "text/plain": [
              "<matplotlib.axes._subplots.AxesSubplot at 0x7f84db2b9e90>"
            ]
          },
          "metadata": {
            "tags": []
          },
          "execution_count": 20
        },
        {
          "output_type": "display_data",
          "data": {
            "image/png": "[encoded data removed]",
            "text/plain": [
              "<Figure size 432x288 with 1 Axes>"
            ]
          },
          "metadata": {
            "tags": [],
            "needs_background": "light"
          }
        }
      ]
    },
    {
      "cell_type": "markdown",
      "metadata": {
        "id": "T_HFUOYO0poj"
      },
      "source": [
        "### Data preprocessing\n",
        "\n",
        "Next, we will need to do some data preprocessing. As you know, computers don't understand unstructured data, in this case, text. It does, however, understand numbers. So we will need to prepare our data into computer-readable format.\n",
        "\n",
        "Start with tasks you already know:\n",
        "- Clean-up text (remove redundant white-space, chars)\n",
        "- Convert class names into class indices\n",
        "- Any other preprocessing steps you have learned in previous lessons, which you think are valuable"
      ]
    },
    {
      "cell_type": "markdown",
      "metadata": {
        "id": "CBV6Mcf20poj"
      },
      "source": [
        "Next, you will need to tokenize text. You have already learned about text tokenization in the previous module. Use materials below if you need to refresh your memory:  \n",
        "- https://nlp.stanford.edu/IR-book/html/htmledition/tokenization-1.html  \n",
        "- https://www.analyticsvidhya.com/blog/2020/05/what-is-tokenization-nlp/  \n",
        "- https://www.youtube.com/watch?v=fNxaJsNG3-s  \n",
        "\n",
        "Tasks:\n",
        "- Play around with HuggingFace tokenizers https://huggingface.co/transformers/main_classes/tokenizer.html and see if you can convert Southpark lines to tokens. \n",
        "\n",
        "    Hint: use `distilbert-base-uncased` pretrained tokenizer\n",
        "\n",
        "\n",
        "- Then build a data preprocessing pipeline for your model using the tokenizer\n",
        "\n",
        "    Hint: Use PyTorch dataset and dataloader\n"
      ]
    },
    {
      "cell_type": "code",
      "metadata": {
        "id": "L2AvOf851YnX"
      },
      "source": [
        ""
      ],
      "execution_count": null,
      "outputs": []
    },
    {
      "cell_type": "code",
      "metadata": {
        "id": "FTlJ5uNw0poj",
        "outputId": "dd87806e-4e45-4c98-dfc6-fd63567a71db"
      },
      "source": [
        "# instructor\n",
        "\n",
        "df_train.head(3)"
      ],
      "execution_count": null,
      "outputs": [
        {
          "output_type": "execute_result",
          "data": {
            "text/html": [
              "<div>\n",
              "<style scoped>\n",
              "    .dataframe tbody tr th:only-of-type {\n",
              "        vertical-align: middle;\n",
              "    }\n",
              "\n",
              "    .dataframe tbody tr th {\n",
              "        vertical-align: top;\n",
              "    }\n",
              "\n",
              "    .dataframe thead th {\n",
              "        text-align: right;\n",
              "    }\n",
              "</style>\n",
              "<table border=\"1\" class=\"dataframe\">\n",
              "  <thead>\n",
              "    <tr style=\"text-align: right;\">\n",
              "      <th></th>\n",
              "      <th>Season</th>\n",
              "      <th>Episode</th>\n",
              "      <th>Character</th>\n",
              "      <th>Line</th>\n",
              "      <th>LineLength</th>\n",
              "      <th>NumWords</th>\n",
              "      <th>Character_enc</th>\n",
              "    </tr>\n",
              "  </thead>\n",
              "  <tbody>\n",
              "    <tr>\n",
              "      <th>0</th>\n",
              "      <td>3</td>\n",
              "      <td>8</td>\n",
              "      <td>Randy</td>\n",
              "      <td>What's happened to you?! You've become all nee...</td>\n",
              "      <td>69</td>\n",
              "      <td>11</td>\n",
              "      <td>3</td>\n",
              "    </tr>\n",
              "    <tr>\n",
              "      <th>1</th>\n",
              "      <td>2</td>\n",
              "      <td>9</td>\n",
              "      <td>Chef</td>\n",
              "      <td>Children, this whole film festival thing has q...</td>\n",
              "      <td>174</td>\n",
              "      <td>28</td>\n",
              "      <td>1</td>\n",
              "    </tr>\n",
              "    <tr>\n",
              "      <th>2</th>\n",
              "      <td>10</td>\n",
              "      <td>12</td>\n",
              "      <td>Butters</td>\n",
              "      <td>Well, how come we've gotta come all the way ou...</td>\n",
              "      <td>54</td>\n",
              "      <td>11</td>\n",
              "      <td>0</td>\n",
              "    </tr>\n",
              "  </tbody>\n",
              "</table>\n",
              "</div>"
            ],
            "text/plain": [
              "   Season  Episode Character  \\\n",
              "0       3        8     Randy   \n",
              "1       2        9      Chef   \n",
              "2      10       12   Butters   \n",
              "\n",
              "                                                Line  LineLength  NumWords  \\\n",
              "0  What's happened to you?! You've become all nee...          69        11   \n",
              "1  Children, this whole film festival thing has q...         174        28   \n",
              "2  Well, how come we've gotta come all the way ou...          54        11   \n",
              "\n",
              "   Character_enc  \n",
              "0              3  \n",
              "1              1  \n",
              "2              0  "
            ]
          },
          "metadata": {
            "tags": []
          },
          "execution_count": 27
        }
      ]
    },
    {
      "cell_type": "markdown",
      "metadata": {
        "id": "GLBjb8n10pok"
      },
      "source": [
        "### Model"
      ]
    },
    {
      "cell_type": "markdown",
      "metadata": {
        "id": "hMV-z7EF0pol"
      },
      "source": [
        "Next, we will build and train a classification model. We will be taking advantage of transfer learning and using a pre-trained model from HuggingFace. The HuggingFace API provides us models for `SequenceClassification`. If you used DistilBert for the tokenizer, you should checkout out [DistilBertForSequenceClassification](https://huggingface.co/transformers/model_doc/distilbert.html#distilbertforsequenceclassification). Otherwise, choose appropriate model for your configuration.\n",
        "\n",
        "Check out the tutorial from HuggingFace on how to fine-tune a pre-trained model:\n",
        "- https://huggingface.co/transformers/training.html\n",
        "\n",
        "\n",
        "Tasks:\n",
        "- Build and train model\n",
        "- Plot training/validation loss\n",
        "- Choose and calculate metrics on a test set\n",
        "- Evaluate model performance\n",
        "- You should be using PyTorch-Lightning for training"
      ]
    },
    {
      "cell_type": "markdown",
      "metadata": {
        "id": "PIlBzG0z0pol"
      },
      "source": [
        "### Evaluation"
      ]
    },
    {
      "cell_type": "markdown",
      "metadata": {
        "id": "dzOT7I980pol"
      },
      "source": [
        "Once you trained a model, it is time to test it on test_data. \n",
        "\n",
        "Tasks:\n",
        "- Predict samples from test dataset\n",
        "- Make a confusion matrix\n",
        "- Create a classification report from sklearn"
      ]
    },
    {
      "cell_type": "markdown",
      "metadata": {
        "id": "xRadcE4a0pol"
      },
      "source": [
        "---"
      ]
    },
    {
      "cell_type": "markdown",
      "metadata": {
        "id": "wUzKgo0b0pol"
      },
      "source": [
        "## Summary"
      ]
    },
    {
      "cell_type": "markdown",
      "metadata": {
        "id": "XFcEctPj0pol"
      },
      "source": [
        "In this lesson, we learned how to use transformers from HuggingFace library. This is a great library as it has a lot of pre-trained transformer models and a public repository, so new models and architectures are uploaded by the public every day. It has a very easy API, so without much drama, we were able to adapt a pre-trained transformer for text classification.\n",
        "\n",
        "The results likely were not very good, but let's give ourselves a break because the task was pretty hard. By looking at some lines that the characters say, it is quite hard to make any conclusions about which one it is. Without more context that is.\n",
        "\n",
        "This was the first part of the transformers workshop. In the next lesson, we will continue"
      ]
    },
    {
      "cell_type": "code",
      "metadata": {
        "id": "sZDuq5NA0pom"
      },
      "source": [
        ""
      ],
      "execution_count": null,
      "outputs": []
    }
  ]
}